{
  "nbformat": 4,
  "nbformat_minor": 0,
  "metadata": {
    "colab": {
      "provenance": []
    },
    "kernelspec": {
      "name": "python3",
      "display_name": "Python 3"
    },
    "language_info": {
      "name": "python"
    }
  },
  "cells": [
    {
      "cell_type": "code",
      "execution_count": null,
      "metadata": {
        "id": "1h1Hcpus_Gw7"
      },
      "outputs": [],
      "source": [
        "import os\n",
        "import math\n",
        "import numpy as np\n",
        "import matplotlib.pyplot as plt\n",
        "import sympy\n",
        "import pandas as pd\n",
        "import openpyxl"
      ]
    },
    {
      "cell_type": "code",
      "source": [
        "wb=openpyxl.load_workbook(\"/content/drive/MyDrive/base de datos (3).xlsx\")\n",
        "print(wb.sheetnames)"
      ],
      "metadata": {
        "colab": {
          "base_uri": "https://localhost:8080/"
        },
        "id": "tdsk09P3B8S9",
        "outputId": "c4aa9087-3acf-46e2-e6cb-23e7ad8908a3"
      },
      "execution_count": null,
      "outputs": [
        {
          "output_type": "stream",
          "name": "stdout",
          "text": [
            "['Base de datos', 'Hoja4']\n"
          ]
        }
      ]
    },
    {
      "cell_type": "code",
      "source": [
        "df_CO2=pd.read_excel(io=\"/content/drive/MyDrive/base de datos (3).xlsx\",sheet_name=\"Hoja4\",header=0,names= None,index_col=None,usecols=\"A:F\",engine=\"openpyxl\")"
      ],
      "metadata": {
        "id": "riK8l2r2CzQ7"
      },
      "execution_count": null,
      "outputs": []
    },
    {
      "cell_type": "code",
      "source": [
        "df_CO2.head(15)"
      ],
      "metadata": {
        "colab": {
          "base_uri": "https://localhost:8080/",
          "height": 520
        },
        "id": "30OEjAOaD3h0",
        "outputId": "edc90b50-c7b1-403d-e097-9a39f0b3a7b1"
      },
      "execution_count": null,
      "outputs": [
        {
          "output_type": "execute_result",
          "data": {
            "text/plain": [
              "    Columna1        País (o territorio dependiente) Superficie o área  (km²)  \\\n",
              "0          2                                 Mónaco                        2   \n",
              "1          3                             Singapur3​                      704   \n",
              "2          7                               Maldivas                      298   \n",
              "3          8                                 Baréin                      771   \n",
              "4          9                                  Malta                      315   \n",
              "5         33                                  India                3 166 620   \n",
              "6         85                               China11​                9 572 900   \n",
              "7        180                         Estados Unidos                9 149 429   \n",
              "8        212                                Noruega                  304 248   \n",
              "9        225                               Rusia20​               17 075 400   \n",
              "10       236                              Australia                7 688 126   \n",
              "11       237                                Namibia                  825 615   \n",
              "12       239                               Mongolia                1 564 100   \n",
              "13       240   República Árabe Saharaui Democrática                  272 000   \n",
              "14       242                           Groenlandia                 2 166 000   \n",
              "\n",
              "    Densidad de población (Hab./km²) GDP$ (per capita)  GDP (para colab)  \n",
              "0                           19500.00      189,487.15 $         189487.15  \n",
              "1                            8142.00       66,859.34 $          66859.34  \n",
              "2                            2154.00       10,279.08 $          10279.08  \n",
              "3                            2058.00       24,086.30 $          24086.30  \n",
              "4                            1688.00       31,573.12 $          31573.12  \n",
              "5                             436.00       1,998. 26 $           1998.26  \n",
              "6                             148.00        9,905.34 $           9905.34  \n",
              "7                              37.00       62,805.25 $          62805.25  \n",
              "8                              18.00       82,267.81 $          82267.81  \n",
              "9                               9.00       11,287.38 $          11287.38  \n",
              "10                              3.00       57,180.78 $          57180.78  \n",
              "11                              3.00        5,558.39 $           5558.39  \n",
              "12                              2.00        4,156.58 $           4156.58  \n",
              "13                              2.00           2,500 $           2500.00  \n",
              "14                              0.02        54,545.3 $          54545.30  "
            ],
            "text/html": [
              "\n",
              "  <div id=\"df-4b522df4-b837-43bc-a5fa-abc766d617e6\">\n",
              "    <div class=\"colab-df-container\">\n",
              "      <div>\n",
              "<style scoped>\n",
              "    .dataframe tbody tr th:only-of-type {\n",
              "        vertical-align: middle;\n",
              "    }\n",
              "\n",
              "    .dataframe tbody tr th {\n",
              "        vertical-align: top;\n",
              "    }\n",
              "\n",
              "    .dataframe thead th {\n",
              "        text-align: right;\n",
              "    }\n",
              "</style>\n",
              "<table border=\"1\" class=\"dataframe\">\n",
              "  <thead>\n",
              "    <tr style=\"text-align: right;\">\n",
              "      <th></th>\n",
              "      <th>Columna1</th>\n",
              "      <th>País (o territorio dependiente)</th>\n",
              "      <th>Superficie o área  (km²)</th>\n",
              "      <th>Densidad de población (Hab./km²)</th>\n",
              "      <th>GDP$ (per capita)</th>\n",
              "      <th>GDP (para colab)</th>\n",
              "    </tr>\n",
              "  </thead>\n",
              "  <tbody>\n",
              "    <tr>\n",
              "      <th>0</th>\n",
              "      <td>2</td>\n",
              "      <td>Mónaco</td>\n",
              "      <td>2</td>\n",
              "      <td>19500.00</td>\n",
              "      <td>189,487.15 $</td>\n",
              "      <td>189487.15</td>\n",
              "    </tr>\n",
              "    <tr>\n",
              "      <th>1</th>\n",
              "      <td>3</td>\n",
              "      <td>Singapur3​</td>\n",
              "      <td>704</td>\n",
              "      <td>8142.00</td>\n",
              "      <td>66,859.34 $</td>\n",
              "      <td>66859.34</td>\n",
              "    </tr>\n",
              "    <tr>\n",
              "      <th>2</th>\n",
              "      <td>7</td>\n",
              "      <td>Maldivas</td>\n",
              "      <td>298</td>\n",
              "      <td>2154.00</td>\n",
              "      <td>10,279.08 $</td>\n",
              "      <td>10279.08</td>\n",
              "    </tr>\n",
              "    <tr>\n",
              "      <th>3</th>\n",
              "      <td>8</td>\n",
              "      <td>Baréin</td>\n",
              "      <td>771</td>\n",
              "      <td>2058.00</td>\n",
              "      <td>24,086.30 $</td>\n",
              "      <td>24086.30</td>\n",
              "    </tr>\n",
              "    <tr>\n",
              "      <th>4</th>\n",
              "      <td>9</td>\n",
              "      <td>Malta</td>\n",
              "      <td>315</td>\n",
              "      <td>1688.00</td>\n",
              "      <td>31,573.12 $</td>\n",
              "      <td>31573.12</td>\n",
              "    </tr>\n",
              "    <tr>\n",
              "      <th>5</th>\n",
              "      <td>33</td>\n",
              "      <td>India</td>\n",
              "      <td>3 166 620</td>\n",
              "      <td>436.00</td>\n",
              "      <td>1,998. 26 $</td>\n",
              "      <td>1998.26</td>\n",
              "    </tr>\n",
              "    <tr>\n",
              "      <th>6</th>\n",
              "      <td>85</td>\n",
              "      <td>China11​</td>\n",
              "      <td>9 572 900</td>\n",
              "      <td>148.00</td>\n",
              "      <td>9,905.34 $</td>\n",
              "      <td>9905.34</td>\n",
              "    </tr>\n",
              "    <tr>\n",
              "      <th>7</th>\n",
              "      <td>180</td>\n",
              "      <td>Estados Unidos</td>\n",
              "      <td>9 149 429</td>\n",
              "      <td>37.00</td>\n",
              "      <td>62,805.25 $</td>\n",
              "      <td>62805.25</td>\n",
              "    </tr>\n",
              "    <tr>\n",
              "      <th>8</th>\n",
              "      <td>212</td>\n",
              "      <td>Noruega</td>\n",
              "      <td>304 248</td>\n",
              "      <td>18.00</td>\n",
              "      <td>82,267.81 $</td>\n",
              "      <td>82267.81</td>\n",
              "    </tr>\n",
              "    <tr>\n",
              "      <th>9</th>\n",
              "      <td>225</td>\n",
              "      <td>Rusia20​</td>\n",
              "      <td>17 075 400</td>\n",
              "      <td>9.00</td>\n",
              "      <td>11,287.38 $</td>\n",
              "      <td>11287.38</td>\n",
              "    </tr>\n",
              "    <tr>\n",
              "      <th>10</th>\n",
              "      <td>236</td>\n",
              "      <td>Australia</td>\n",
              "      <td>7 688 126</td>\n",
              "      <td>3.00</td>\n",
              "      <td>57,180.78 $</td>\n",
              "      <td>57180.78</td>\n",
              "    </tr>\n",
              "    <tr>\n",
              "      <th>11</th>\n",
              "      <td>237</td>\n",
              "      <td>Namibia</td>\n",
              "      <td>825 615</td>\n",
              "      <td>3.00</td>\n",
              "      <td>5,558.39 $</td>\n",
              "      <td>5558.39</td>\n",
              "    </tr>\n",
              "    <tr>\n",
              "      <th>12</th>\n",
              "      <td>239</td>\n",
              "      <td>Mongolia</td>\n",
              "      <td>1 564 100</td>\n",
              "      <td>2.00</td>\n",
              "      <td>4,156.58 $</td>\n",
              "      <td>4156.58</td>\n",
              "    </tr>\n",
              "    <tr>\n",
              "      <th>13</th>\n",
              "      <td>240</td>\n",
              "      <td>República Árabe Saharaui Democrática</td>\n",
              "      <td>272 000</td>\n",
              "      <td>2.00</td>\n",
              "      <td>2,500 $</td>\n",
              "      <td>2500.00</td>\n",
              "    </tr>\n",
              "    <tr>\n",
              "      <th>14</th>\n",
              "      <td>242</td>\n",
              "      <td>Groenlandia</td>\n",
              "      <td>2 166 000</td>\n",
              "      <td>0.02</td>\n",
              "      <td>54,545.3 $</td>\n",
              "      <td>54545.30</td>\n",
              "    </tr>\n",
              "  </tbody>\n",
              "</table>\n",
              "</div>\n",
              "      <button class=\"colab-df-convert\" onclick=\"convertToInteractive('df-4b522df4-b837-43bc-a5fa-abc766d617e6')\"\n",
              "              title=\"Convert this dataframe to an interactive table.\"\n",
              "              style=\"display:none;\">\n",
              "        \n",
              "  <svg xmlns=\"http://www.w3.org/2000/svg\" height=\"24px\"viewBox=\"0 0 24 24\"\n",
              "       width=\"24px\">\n",
              "    <path d=\"M0 0h24v24H0V0z\" fill=\"none\"/>\n",
              "    <path d=\"M18.56 5.44l.94 2.06.94-2.06 2.06-.94-2.06-.94-.94-2.06-.94 2.06-2.06.94zm-11 1L8.5 8.5l.94-2.06 2.06-.94-2.06-.94L8.5 2.5l-.94 2.06-2.06.94zm10 10l.94 2.06.94-2.06 2.06-.94-2.06-.94-.94-2.06-.94 2.06-2.06.94z\"/><path d=\"M17.41 7.96l-1.37-1.37c-.4-.4-.92-.59-1.43-.59-.52 0-1.04.2-1.43.59L10.3 9.45l-7.72 7.72c-.78.78-.78 2.05 0 2.83L4 21.41c.39.39.9.59 1.41.59.51 0 1.02-.2 1.41-.59l7.78-7.78 2.81-2.81c.8-.78.8-2.07 0-2.86zM5.41 20L4 18.59l7.72-7.72 1.47 1.35L5.41 20z\"/>\n",
              "  </svg>\n",
              "      </button>\n",
              "      \n",
              "  <style>\n",
              "    .colab-df-container {\n",
              "      display:flex;\n",
              "      flex-wrap:wrap;\n",
              "      gap: 12px;\n",
              "    }\n",
              "\n",
              "    .colab-df-convert {\n",
              "      background-color: #E8F0FE;\n",
              "      border: none;\n",
              "      border-radius: 50%;\n",
              "      cursor: pointer;\n",
              "      display: none;\n",
              "      fill: #1967D2;\n",
              "      height: 32px;\n",
              "      padding: 0 0 0 0;\n",
              "      width: 32px;\n",
              "    }\n",
              "\n",
              "    .colab-df-convert:hover {\n",
              "      background-color: #E2EBFA;\n",
              "      box-shadow: 0px 1px 2px rgba(60, 64, 67, 0.3), 0px 1px 3px 1px rgba(60, 64, 67, 0.15);\n",
              "      fill: #174EA6;\n",
              "    }\n",
              "\n",
              "    [theme=dark] .colab-df-convert {\n",
              "      background-color: #3B4455;\n",
              "      fill: #D2E3FC;\n",
              "    }\n",
              "\n",
              "    [theme=dark] .colab-df-convert:hover {\n",
              "      background-color: #434B5C;\n",
              "      box-shadow: 0px 1px 3px 1px rgba(0, 0, 0, 0.15);\n",
              "      filter: drop-shadow(0px 1px 2px rgba(0, 0, 0, 0.3));\n",
              "      fill: #FFFFFF;\n",
              "    }\n",
              "  </style>\n",
              "\n",
              "      <script>\n",
              "        const buttonEl =\n",
              "          document.querySelector('#df-4b522df4-b837-43bc-a5fa-abc766d617e6 button.colab-df-convert');\n",
              "        buttonEl.style.display =\n",
              "          google.colab.kernel.accessAllowed ? 'block' : 'none';\n",
              "\n",
              "        async function convertToInteractive(key) {\n",
              "          const element = document.querySelector('#df-4b522df4-b837-43bc-a5fa-abc766d617e6');\n",
              "          const dataTable =\n",
              "            await google.colab.kernel.invokeFunction('convertToInteractive',\n",
              "                                                     [key], {});\n",
              "          if (!dataTable) return;\n",
              "\n",
              "          const docLinkHtml = 'Like what you see? Visit the ' +\n",
              "            '<a target=\"_blank\" href=https://colab.research.google.com/notebooks/data_table.ipynb>data table notebook</a>'\n",
              "            + ' to learn more about interactive tables.';\n",
              "          element.innerHTML = '';\n",
              "          dataTable['output_type'] = 'display_data';\n",
              "          await google.colab.output.renderOutput(dataTable, element);\n",
              "          const docLink = document.createElement('div');\n",
              "          docLink.innerHTML = docLinkHtml;\n",
              "          element.appendChild(docLink);\n",
              "        }\n",
              "      </script>\n",
              "    </div>\n",
              "  </div>\n",
              "  "
            ]
          },
          "metadata": {},
          "execution_count": 51
        }
      ]
    },
    {
      "cell_type": "code",
      "source": [
        "df_CO2[\"GDP (para colab)\"].sum()"
      ],
      "metadata": {
        "colab": {
          "base_uri": "https://localhost:8080/"
        },
        "id": "-kNePBQdJRK5",
        "outputId": "cf026298-78f3-4383-a348-450b0e4cf0c1"
      },
      "execution_count": null,
      "outputs": [
        {
          "output_type": "execute_result",
          "data": {
            "text/plain": [
              "614490.08"
            ]
          },
          "metadata": {},
          "execution_count": 47
        }
      ]
    },
    {
      "cell_type": "code",
      "source": [
        " df_CO2[\"GDP (para colab)\"] / df_CO2[\"Densidad de población (Hab./km²)\"]\n"
      ],
      "metadata": {
        "colab": {
          "base_uri": "https://localhost:8080/"
        },
        "id": "MMHGcpaJEKcj",
        "outputId": "d65d7bad-ee52-443c-b6c4-8415d1ff8420"
      },
      "execution_count": null,
      "outputs": [
        {
          "output_type": "execute_result",
          "data": {
            "text/plain": [
              "0     9.717290e+00\n",
              "1     8.211661e+00\n",
              "2     4.772089e+00\n",
              "3     1.170374e+01\n",
              "4     1.870445e+01\n",
              "5     4.583165e+00\n",
              "6     6.692797e+01\n",
              "7     1.697439e+03\n",
              "8     4.570434e+03\n",
              "9     1.254153e+03\n",
              "10    1.906026e+04\n",
              "11    1.852797e+03\n",
              "12    2.078290e+03\n",
              "13    1.250000e+03\n",
              "14    2.727265e+06\n",
              "dtype: float64"
            ]
          },
          "metadata": {},
          "execution_count": 55
        }
      ]
    }
  ]
}