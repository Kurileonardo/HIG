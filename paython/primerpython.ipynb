{
 "cells": [
  {
   "cell_type": "code",
   "execution_count": 1,
   "id": "a3d70723-4958-4732-a53a-8418194b09e1",
   "metadata": {},
   "outputs": [
    {
     "data": {
      "text/plain": [
       "7"
      ]
     },
     "execution_count": 1,
     "metadata": {},
     "output_type": "execute_result"
    }
   ],
   "source": [
    "2+5"
   ]
  },
  {
   "cell_type": "markdown",
   "id": "510e43af-5ac8-46b8-8092-ec4a8b431677",
   "metadata": {},
   "source": [
    "este es una linea de letras con una ecuación $y=2x$"
   ]
  },
  {
   "cell_type": "code",
   "execution_count": 43,
   "id": "f7504695-f418-4f65-a6c2-e5e7474bf6a3",
   "metadata": {},
   "outputs": [
    {
     "name": "stderr",
     "output_type": "stream",
     "text": [
      "Matplotlib is building the font cache; this may take a moment.\n"
     ]
    }
   ],
   "source": [
    "import matplotlib.pyplot as plt"
   ]
  },
  {
   "cell_type": "code",
   "execution_count": 42,
   "id": "64556308-ea16-43ca-a608-19b7cabb94a1",
   "metadata": {},
   "outputs": [],
   "source": [
    "a=5\n"
   ]
  },
  {
   "cell_type": "code",
   "execution_count": 9,
   "id": "22f51247-7d60-4cd5-afcd-92f261e07553",
   "metadata": {},
   "outputs": [
    {
     "data": {
      "text/plain": [
       "int"
      ]
     },
     "execution_count": 9,
     "metadata": {},
     "output_type": "execute_result"
    }
   ],
   "source": [
    "type(a)\n"
   ]
  },
  {
   "cell_type": "code",
   "execution_count": 13,
   "id": "8f620ab4-c0e9-4e54-99bf-d467a31fdadb",
   "metadata": {},
   "outputs": [],
   "source": [
    "b=4\n"
   ]
  },
  {
   "cell_type": "code",
   "execution_count": 14,
   "id": "ef962438-642e-4029-a97a-7ebbb20386b1",
   "metadata": {},
   "outputs": [
    {
     "data": {
      "text/plain": [
       "4"
      ]
     },
     "execution_count": 14,
     "metadata": {},
     "output_type": "execute_result"
    }
   ],
   "source": [
    "b"
   ]
  },
  {
   "cell_type": "code",
   "execution_count": 15,
   "id": "1b547593-d8f4-42b7-8d6a-765a40c12fb2",
   "metadata": {},
   "outputs": [
    {
     "data": {
      "text/plain": [
       "(20, 9, 1.25, 1)"
      ]
     },
     "execution_count": 15,
     "metadata": {},
     "output_type": "execute_result"
    }
   ],
   "source": [
    "a*b,a+b,a/b,a-b"
   ]
  },
  {
   "cell_type": "code",
   "execution_count": 16,
   "id": "fd28787f-6e79-4248-beb9-c32ecf72b5cd",
   "metadata": {},
   "outputs": [],
   "source": [
    "c=a+b\n",
    "\n"
   ]
  },
  {
   "cell_type": "code",
   "execution_count": 17,
   "id": "a1efec2d-831f-4e6d-935c-48911e847014",
   "metadata": {},
   "outputs": [
    {
     "data": {
      "text/plain": [
       "9"
      ]
     },
     "execution_count": 17,
     "metadata": {},
     "output_type": "execute_result"
    }
   ],
   "source": [
    "c"
   ]
  },
  {
   "cell_type": "code",
   "execution_count": 18,
   "id": "446b71fa-b14d-4576-a2db-4b8bb9d7e3a0",
   "metadata": {},
   "outputs": [],
   "source": [
    "lista=(0,1,2,3,4,5)\n"
   ]
  },
  {
   "cell_type": "code",
   "execution_count": 19,
   "id": "c8ddede1-d981-4c2b-b193-9b11e0cf5fe0",
   "metadata": {},
   "outputs": [
    {
     "data": {
      "text/plain": [
       "(0, 1, 2, 3, 4, 5)"
      ]
     },
     "execution_count": 19,
     "metadata": {},
     "output_type": "execute_result"
    }
   ],
   "source": [
    "lista"
   ]
  },
  {
   "cell_type": "code",
   "execution_count": 20,
   "id": "fc70522a-5fdd-4bdf-933e-1c42ed332c63",
   "metadata": {},
   "outputs": [
    {
     "data": {
      "text/plain": [
       "(0, 1, 2, 3, 4, 5, 0, 1, 2, 3, 4, 5)"
      ]
     },
     "execution_count": 20,
     "metadata": {},
     "output_type": "execute_result"
    }
   ],
   "source": [
    "lista*2"
   ]
  },
  {
   "cell_type": "code",
   "execution_count": 24,
   "id": "16c2bf94-71a9-4767-abe0-ca999bc09f9c",
   "metadata": {},
   "outputs": [],
   "source": [
    "lista2=(\"nombre\",\"edad\")\n"
   ]
  },
  {
   "cell_type": "code",
   "execution_count": 25,
   "id": "d231591e-cf99-4ccb-9e7c-0deafa448473",
   "metadata": {},
   "outputs": [
    {
     "data": {
      "text/plain": [
       "('nombre', 'edad')"
      ]
     },
     "execution_count": 25,
     "metadata": {},
     "output_type": "execute_result"
    }
   ],
   "source": [
    "lista2"
   ]
  },
  {
   "cell_type": "code",
   "execution_count": 26,
   "id": "c055343d-a133-4f78-92b6-8b0c450c0094",
   "metadata": {},
   "outputs": [
    {
     "data": {
      "text/plain": [
       "(0, 1, 2, 3, 4, 5, 'nombre', 'edad')"
      ]
     },
     "execution_count": 26,
     "metadata": {},
     "output_type": "execute_result"
    }
   ],
   "source": [
    "lista+lista2"
   ]
  },
  {
   "cell_type": "code",
   "execution_count": 27,
   "id": "811ab453-8056-4323-8cd8-561bee0e99ed",
   "metadata": {},
   "outputs": [
    {
     "data": {
      "text/plain": [
       "'nombre'"
      ]
     },
     "execution_count": 27,
     "metadata": {},
     "output_type": "execute_result"
    }
   ],
   "source": [
    "lista2[0]"
   ]
  },
  {
   "cell_type": "code",
   "execution_count": 28,
   "id": "48196e6e-cf29-428d-9436-60e842377d36",
   "metadata": {},
   "outputs": [],
   "source": [
    "import numpy as np\n"
   ]
  },
  {
   "cell_type": "code",
   "execution_count": 38,
   "id": "63316fa4-2c0b-4b42-a618-28fe1095aa3f",
   "metadata": {},
   "outputs": [],
   "source": [
    "k=np.zeros(10)\n",
    "t=np.linspace(-10,10,10)\n",
    "d=np.arange(-10,10,0.15)"
   ]
  },
  {
   "cell_type": "code",
   "execution_count": 36,
   "id": "e64fe1cc-aebd-4e81-af79-03ae1927b7c4",
   "metadata": {},
   "outputs": [
    {
     "data": {
      "text/plain": [
       "array([-10.        ,  -7.77777778,  -5.55555556,  -3.33333333,\n",
       "        -1.11111111,   1.11111111,   3.33333333,   5.55555556,\n",
       "         7.77777778,  10.        ])"
      ]
     },
     "execution_count": 36,
     "metadata": {},
     "output_type": "execute_result"
    }
   ],
   "source": [
    "t\n"
   ]
  },
  {
   "cell_type": "code",
   "execution_count": 39,
   "id": "737b5f92-6e64-46b1-a260-d19ec9105a0e",
   "metadata": {},
   "outputs": [
    {
     "data": {
      "text/plain": [
       "array([-10.  ,  -9.85,  -9.7 ,  -9.55,  -9.4 ,  -9.25,  -9.1 ,  -8.95,\n",
       "        -8.8 ,  -8.65,  -8.5 ,  -8.35,  -8.2 ,  -8.05,  -7.9 ,  -7.75,\n",
       "        -7.6 ,  -7.45,  -7.3 ,  -7.15,  -7.  ,  -6.85,  -6.7 ,  -6.55,\n",
       "        -6.4 ,  -6.25,  -6.1 ,  -5.95,  -5.8 ,  -5.65,  -5.5 ,  -5.35,\n",
       "        -5.2 ,  -5.05,  -4.9 ,  -4.75,  -4.6 ,  -4.45,  -4.3 ,  -4.15,\n",
       "        -4.  ,  -3.85,  -3.7 ,  -3.55,  -3.4 ,  -3.25,  -3.1 ,  -2.95,\n",
       "        -2.8 ,  -2.65,  -2.5 ,  -2.35,  -2.2 ,  -2.05,  -1.9 ,  -1.75,\n",
       "        -1.6 ,  -1.45,  -1.3 ,  -1.15,  -1.  ,  -0.85,  -0.7 ,  -0.55,\n",
       "        -0.4 ,  -0.25,  -0.1 ,   0.05,   0.2 ,   0.35,   0.5 ,   0.65,\n",
       "         0.8 ,   0.95,   1.1 ,   1.25,   1.4 ,   1.55,   1.7 ,   1.85,\n",
       "         2.  ,   2.15,   2.3 ,   2.45,   2.6 ,   2.75,   2.9 ,   3.05,\n",
       "         3.2 ,   3.35,   3.5 ,   3.65,   3.8 ,   3.95,   4.1 ,   4.25,\n",
       "         4.4 ,   4.55,   4.7 ,   4.85,   5.  ,   5.15,   5.3 ,   5.45,\n",
       "         5.6 ,   5.75,   5.9 ,   6.05,   6.2 ,   6.35,   6.5 ,   6.65,\n",
       "         6.8 ,   6.95,   7.1 ,   7.25,   7.4 ,   7.55,   7.7 ,   7.85,\n",
       "         8.  ,   8.15,   8.3 ,   8.45,   8.6 ,   8.75,   8.9 ,   9.05,\n",
       "         9.2 ,   9.35,   9.5 ,   9.65,   9.8 ,   9.95])"
      ]
     },
     "execution_count": 39,
     "metadata": {},
     "output_type": "execute_result"
    }
   ],
   "source": [
    "d"
   ]
  },
  {
   "cell_type": "code",
   "execution_count": 44,
   "id": "86432005-1fcc-448d-ac91-83042aeb40ee",
   "metadata": {},
   "outputs": [
    {
     "ename": "NameError",
     "evalue": "name 'plt' is not defined",
     "output_type": "error",
     "traceback": [
      "\u001b[0;31m---------------------------------------------------------------------------\u001b[0m",
      "\u001b[0;31mNameError\u001b[0m                                 Traceback (most recent call last)",
      "Input \u001b[0;32mIn [44]\u001b[0m, in \u001b[0;36m<cell line: 3>\u001b[0;34m()\u001b[0m\n\u001b[1;32m      1\u001b[0m x\u001b[38;5;241m=\u001b[39mnp\u001b[38;5;241m.\u001b[39marange(\u001b[38;5;241m-\u001b[39m\u001b[38;5;241m2\u001b[39m\u001b[38;5;241m*\u001b[39mnp\u001b[38;5;241m.\u001b[39mpi,\u001b[38;5;241m2\u001b[39m\u001b[38;5;241m*\u001b[39mnp\u001b[38;5;241m.\u001b[39mpi,\u001b[38;5;241m0.01\u001b[39m)\n\u001b[1;32m      2\u001b[0m y\u001b[38;5;241m=\u001b[39mnp\u001b[38;5;241m.\u001b[39mcos(x)\n\u001b[0;32m----> 3\u001b[0m \u001b[43mplt\u001b[49m\u001b[38;5;241m.\u001b[39mplot(x,y)\n",
      "\u001b[0;31mNameError\u001b[0m: name 'plt' is not defined"
     ]
    }
   ],
   "source": [
    "x=np.arange(-2*np.pi,2*np.pi,0.01)\n",
    "y=np.cos(x)\n",
    "plt.plot(x,y)"
   ]
  },
  {
   "cell_type": "code",
   "execution_count": null,
   "id": "1b91f653-24fd-4223-a31d-875218126dc2",
   "metadata": {},
   "outputs": [],
   "source": []
  }
 ],
 "metadata": {
  "kernelspec": {
   "display_name": "Python 3 (ipykernel)",
   "language": "python",
   "name": "python3"
  },
  "language_info": {
   "codemirror_mode": {
    "name": "ipython",
    "version": 3
   },
   "file_extension": ".py",
   "mimetype": "text/x-python",
   "name": "python",
   "nbconvert_exporter": "python",
   "pygments_lexer": "ipython3",
   "version": "3.9.12"
  }
 },
 "nbformat": 4,
 "nbformat_minor": 5
}
