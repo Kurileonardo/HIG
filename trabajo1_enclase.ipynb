{
  "nbformat": 4,
  "nbformat_minor": 0,
  "metadata": {
    "colab": {
      "provenance": [],
      "authorship_tag": "ABX9TyPlk7dSUnUDC0Xk25HvaV+b",
      "include_colab_link": true
    },
    "kernelspec": {
      "name": "python3",
      "display_name": "Python 3"
    },
    "language_info": {
      "name": "python"
    }
  },
  "cells": [
    {
      "cell_type": "markdown",
      "metadata": {
        "id": "view-in-github",
        "colab_type": "text"
      },
      "source": [
        "<a href=\"https://colab.research.google.com/github/Kurileonardo/HIG/blob/main/trabajo1_enclase.ipynb\" target=\"_parent\"><img src=\"https://colab.research.google.com/assets/colab-badge.svg\" alt=\"Open In Colab\"/></a>"
      ]
    },
    {
      "cell_type": "code",
      "execution_count": 11,
      "metadata": {
        "id": "0wMYJ2NJlTSB"
      },
      "outputs": [],
      "source": [
        "#Típicamente en las primeras celdas se importan las librerias que se utilizarán en el cuaderno. \n",
        "import os\n",
        "import numpy as np \n",
        "import matplotlib.pyplot as plt\n",
        "import math as math\n",
        "from scipy.optimize import minimize\n",
        "from scipy import stats\n",
        "data=np.load(\"line.npy\")\n",
        "x=data[0]\n",
        "y=data[1]\n",
        "yerr=data[2]"
      ]
    },
    {
      "cell_type": "code",
      "source": [
        "plt.errorbar(x,y,yerr,fmt='.')\n",
        "plt.plot(x,a_op*x+b_op)"
      ],
      "metadata": {
        "colab": {
          "base_uri": "https://localhost:8080/",
          "height": 282
        },
        "id": "op178zc0r42v",
        "outputId": "d200f5ed-029b-4e70-8f46-80a5619c8387"
      },
      "execution_count": 17,
      "outputs": [
        {
          "output_type": "execute_result",
          "data": {
            "text/plain": [
              "[<matplotlib.lines.Line2D at 0x7fc015fb0550>]"
            ]
          },
          "metadata": {},
          "execution_count": 17
        },
        {
          "output_type": "display_data",
          "data": {
            "text/plain": [
              "<Figure size 432x288 with 1 Axes>"
            ],
            "image/png": "[encoded data removed]"
          },
          "metadata": {
            "needs_background": "light"
          }
        }
      ]
    },
    {
      "cell_type": "code",
      "source": [
        "def chi2(params):\n",
        "  a=params[0]\n",
        "  b=params[1]\n",
        "  ymodel=a*x+b\n",
        "  chi2=0.5*np.sum((y-ymodel)**2/yerr**2)\n",
        "  return chi2\n"
      ],
      "metadata": {
        "id": "17Y0Lwk4tbhP"
      },
      "execution_count": 14,
      "outputs": []
    },
    {
      "cell_type": "code",
      "source": [
        "res= minimize(chi2, x0=[-0,0], options={'disp':True})\n",
        "a_op,b_op=res.x\n",
        "print(a_op,b_op)\n"
      ],
      "metadata": {
        "colab": {
          "base_uri": "https://localhost:8080/"
        },
        "id": "HoSi86w6wJPI",
        "outputId": "34fd1034-4ea2-48d8-f672-168dec31c930"
      },
      "execution_count": 15,
      "outputs": [
        {
          "output_type": "stream",
          "name": "stdout",
          "text": [
            "Optimization terminated successfully.\n",
            "         Current function value: 27.463454\n",
            "         Iterations: 4\n",
            "         Function evaluations: 18\n",
            "         Gradient evaluations: 6\n",
            "-0.9716812748413178 4.399210573461103\n"
          ]
        }
      ]
    }
  ]
}